{
 "cells": [
  {
   "cell_type": "markdown",
   "metadata": {},
   "source": [
    "# Getting started with Lightdash\n",
    "\n",
    "The Lightdash Python client allows you query data from the Lightdash Semantic Layer directly from Python. For example, you can use it to query your governed metrics for:\n",
    "- Creating data visualisations and interactive apps (matplotlib, plotly, etc)\n",
    "- Exploring data in a notebook (hex, jupyter, etc)\n",
    "- Pulling data into orchestration pipelines (dagster, airflow, etc)\n",
    "\n",
    "## Installation\n",
    "\n",
    "```bash\n",
    "pip install lightdash\n",
    "```"
   ]
  },
  {
   "cell_type": "markdown",
   "metadata": {},
   "source": [
    "## Setup Lightdash Client\n",
    "\n",
    "Make sure you have the following environment variables set:\n",
    "- `LIGHTDASH_ACCESS_TOKEN`\n",
    "- `LIGHTDASH_PROJECT_UUID`\n",
    "- `LIGHTDASH_INSTANCE_URL`\n",
    "\n",
    "Then you can create a Lightdash client:"
   ]
  },
  {
   "cell_type": "code",
   "execution_count": 4,
   "metadata": {},
   "outputs": [
    {
     "name": "stdout",
     "output_type": "stream",
     "text": [
      "Collecting dotenv\n",
      "  Downloading dotenv-0.9.9-py2.py3-none-any.whl.metadata (279 bytes)\n",
      "Collecting python-dotenv (from dotenv)\n",
      "  Downloading python_dotenv-1.1.0-py3-none-any.whl.metadata (24 kB)\n",
      "Downloading dotenv-0.9.9-py2.py3-none-any.whl (1.9 kB)\n",
      "Downloading python_dotenv-1.1.0-py3-none-any.whl (20 kB)\n",
      "Installing collected packages: python-dotenv, dotenv\n",
      "Successfully installed dotenv-0.9.9 python-dotenv-1.1.0\n",
      "Note: you may need to restart the kernel to use updated packages.\n"
     ]
    }
   ],
   "source": [
    "pip install dotenv"
   ]
  },
  {
   "cell_type": "code",
   "execution_count": 11,
   "metadata": {},
   "outputs": [
    {
     "name": "stdout",
     "output_type": "stream",
     "text": [
      "/home/james/Dropbox/Code/lightdash-playground/.env\n"
     ]
    }
   ],
   "source": [
    "import os, sys\n",
    "from dotenv import load_dotenv\n",
    "dotenv_path = os.path.realpath(\"../../lightdash-playground/.env\")\n",
    "print(dotenv_path)\n",
    "assert load_dotenv(dotenv_path), \"Couldn't load the .env file\"\n",
    "\n",
    "import lightdash"
   ]
  },
  {
   "cell_type": "code",
   "execution_count": 12,
   "metadata": {},
   "outputs": [],
   "source": [
    "from lightdash import Client\n",
    "\n",
    "import os\n",
    "access_token = os.getenv(\"LIGHTDASH_ACCESS_TOKEN\")\n",
    "project_uuid = os.getenv(\"LIGHTDASH_PROJECT_UUID\")\n",
    "instance_url = os.getenv(\"LIGHTDASH_INSTANCE_URL\")\n",
    "\n",
    "client = Client(\n",
    "    instance_url=instance_url,\n",
    "    access_token=access_token,\n",
    "    project_uuid=project_uuid\n",
    ")"
   ]
  },
  {
   "cell_type": "markdown",
   "metadata": {},
   "source": [
    "## Run a query\n",
    "\n",
    "### 1. Start with a model\n",
    "\n",
    "You can use the client to list available models in your semantic layer:"
   ]
  },
  {
   "cell_type": "code",
   "execution_count": 13,
   "metadata": {},
   "outputs": [
    {
     "data": {
      "text/plain": [
       "[Model(time_series_data: Time series data for wise pizza analysis)]"
      ]
     },
     "execution_count": 13,
     "metadata": {},
     "output_type": "execute_result"
    }
   ],
   "source": [
    "# print all models\n",
    "client.list_models()\n",
    "\n"
   ]
  },
  {
   "cell_type": "code",
   "execution_count": 15,
   "metadata": {},
   "outputs": [],
   "source": [
    "ts_data = client.models.time_series_data"
   ]
  },
  {
   "cell_type": "markdown",
   "metadata": {},
   "source": [
    "### 2. Find available metrics\n",
    "\n",
    "Find metrics in your semantic layer so you can pull data from your warehouse without writing SQL"
   ]
  },
  {
   "cell_type": "code",
   "execution_count": 17,
   "metadata": {},
   "outputs": [
    {
     "data": {
      "text/plain": [
       "'Volume per customer'"
      ]
     },
     "execution_count": 17,
     "metadata": {},
     "output_type": "execute_result"
    }
   ],
   "source": [
    "# Show metrics\n",
    "metric = ts_data.list_metrics()[0]\n",
    "\n",
    "# Get data about a metric\n",
    "metric.description"
   ]
  },
  {
   "cell_type": "markdown",
   "metadata": {},
   "source": [
    "### 3. Run a query\n",
    "\n",
    "Run a query to fetch metric data from your warehouse"
   ]
  },
  {
   "cell_type": "code",
   "execution_count": 18,
   "metadata": {},
   "outputs": [
    {
     "data": {
      "text/plain": [
       "[{'0': 69.48749027984762}]"
      ]
     },
     "execution_count": 18,
     "metadata": {},
     "output_type": "execute_result"
    }
   ],
   "source": [
    "ts_data.query(metrics=[metric]).to_records()"
   ]
  },
  {
   "cell_type": "markdown",
   "metadata": {},
   "source": [
    "Use dimensions to break down your metric data"
   ]
  },
  {
   "cell_type": "code",
   "execution_count": 20,
   "metadata": {},
   "outputs": [
    {
     "data": {
      "text/plain": [
       "Dimension(region: The geographical region)"
      ]
     },
     "metadata": {},
     "output_type": "display_data"
    },
    {
     "data": {
      "text/html": [
       "<div>\n",
       "<style scoped>\n",
       "    .dataframe tbody tr th:only-of-type {\n",
       "        vertical-align: middle;\n",
       "    }\n",
       "\n",
       "    .dataframe tbody tr th {\n",
       "        vertical-align: top;\n",
       "    }\n",
       "\n",
       "    .dataframe thead th {\n",
       "        text-align: right;\n",
       "    }\n",
       "</style>\n",
       "<table border=\"1\" class=\"dataframe\">\n",
       "  <thead>\n",
       "    <tr style=\"text-align: right;\">\n",
       "      <th></th>\n",
       "      <th>Region</th>\n",
       "      <th>0</th>\n",
       "    </tr>\n",
       "  </thead>\n",
       "  <tbody>\n",
       "    <tr>\n",
       "      <th>0</th>\n",
       "      <td>REGION 1</td>\n",
       "      <td>50.766827</td>\n",
       "    </tr>\n",
       "    <tr>\n",
       "      <th>1</th>\n",
       "      <td>REGION 3</td>\n",
       "      <td>62.288627</td>\n",
       "    </tr>\n",
       "    <tr>\n",
       "      <th>2</th>\n",
       "      <td>REGION 5</td>\n",
       "      <td>51.991170</td>\n",
       "    </tr>\n",
       "    <tr>\n",
       "      <th>3</th>\n",
       "      <td>REGION 7</td>\n",
       "      <td>102.943066</td>\n",
       "    </tr>\n",
       "    <tr>\n",
       "      <th>4</th>\n",
       "      <td>REGION 9</td>\n",
       "      <td>79.645514</td>\n",
       "    </tr>\n",
       "  </tbody>\n",
       "</table>\n",
       "</div>"
      ],
      "text/plain": [
       "     Region           0\n",
       "0  REGION 1   50.766827\n",
       "1  REGION 3   62.288627\n",
       "2  REGION 5   51.991170\n",
       "3  REGION 7  102.943066\n",
       "4  REGION 9   79.645514"
      ]
     },
     "execution_count": 20,
     "metadata": {},
     "output_type": "execute_result"
    }
   ],
   "source": [
    "# List available dimensions\n",
    "dim = ts_data.list_dimensions()[0]\n",
    "display(dim)\n",
    "\n",
    "# Query profit broken down by partner\n",
    "ts_data.query(\n",
    "    dimensions=[dim],\n",
    "    metrics=[metric]\n",
    ").to_df()"
   ]
  },
  {
   "cell_type": "code",
   "execution_count": null,
   "metadata": {},
   "outputs": [],
   "source": []
  }
 ],
 "metadata": {
  "kernelspec": {
   "display_name": "Python [conda env:lightdash3.11]",
   "language": "python",
   "name": "conda-env-lightdash3.11-py"
  },
  "language_info": {
   "codemirror_mode": {
    "name": "ipython",
    "version": 3
   },
   "file_extension": ".py",
   "mimetype": "text/x-python",
   "name": "python",
   "nbconvert_exporter": "python",
   "pygments_lexer": "ipython3",
   "version": "3.11.11"
  }
 },
 "nbformat": 4,
 "nbformat_minor": 4
}
